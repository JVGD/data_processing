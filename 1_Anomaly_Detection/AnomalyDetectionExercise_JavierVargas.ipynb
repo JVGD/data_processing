{
 "cells": [
  {
   "cell_type": "markdown",
   "metadata": {},
   "source": [
    "# Javier Vargas García-Donas"
   ]
  },
  {
   "cell_type": "markdown",
   "metadata": {},
   "source": [
    "## Anomaly Detection"
   ]
  },
  {
   "cell_type": "markdown",
   "metadata": {},
   "source": [
    "This notebook is based on the Exercise 8 of the Manchine Learning Course in Coursera by A. Nguyen. (https://es.coursera.org/learn/machine-learning#)"
   ]
  },
  {
   "cell_type": "markdown",
   "metadata": {},
   "source": [
    "## Introduction\n",
    "\n",
    "In anomaly detection a solution to the problem is to estimate the probability density function to later estimate a threshold below which a sample is considered as anomalous.\n",
    "\n",
    "In this exercise we ask first for an estimation of the probability density function assuming a Gaussian distribution. Then, for a training set, we compute a threshold.\n",
    "\n",
    "We start with a low dimensional problem to end with anomaly detection for a larger one."
   ]
  },
  {
   "cell_type": "markdown",
   "metadata": {},
   "source": [
    "## Probability density function\n",
    "\n",
    "We aim at detection when a server is behaving not properly. We have a pair for data: the throughput in Mbps and the latency or delay in answering to a request. We have some test samples, one for each computer server, and we conjecture that a few of them are not working properly while the rest do. "
   ]
  },
  {
   "cell_type": "markdown",
   "metadata": {},
   "source": [
    "Load your data,"
   ]
  },
  {
   "cell_type": "code",
   "execution_count": 1,
   "metadata": {},
   "outputs": [],
   "source": [
    "from numpy import *\n",
    "import pandas as pd\n",
    "import matplotlib.pyplot as plt\n",
    "from scipy.stats import multivariate_normal\n",
    "# import seaborn as sb\n",
    "from scipy.io import loadmat\n",
    "%matplotlib inline\n",
    "# matplotlib qt\n"
   ]
  },
  {
   "cell_type": "code",
   "execution_count": 2,
   "metadata": {
    "scrolled": true
   },
   "outputs": [
    {
     "data": {
      "text/plain": [
       "(307, 2)"
      ]
     },
     "execution_count": 2,
     "metadata": {},
     "output_type": "execute_result"
    }
   ],
   "source": [
    "data = loadmat('ex8data1.mat')\n",
    "data.keys()\n",
    "X = data['X'] #Test data\n",
    "X.shape"
   ]
  },
  {
   "cell_type": "code",
   "execution_count": 3,
   "metadata": {},
   "outputs": [],
   "source": [
    "yval = data['yval'] #Data to validate, to compute the threshold. yval is 1 if it was an anomaly, 0 otherwise\n",
    "Xval = data['Xval']"
   ]
  },
  {
   "cell_type": "markdown",
   "metadata": {},
   "source": [
    "## Anomaly detection"
   ]
  },
  {
   "cell_type": "markdown",
   "metadata": {},
   "source": [
    "Our first task is to use a Gaussian model to detect if an unlabeled example from a data set should be considered anomalus.  We have a simple 2-dimensional data set to start off with to help visualize what the algorithm is doing.  Let's pull in and plot the data."
   ]
  },
  {
   "cell_type": "markdown",
   "metadata": {},
   "source": [
    "We ask: Use the data in $X$ to model the probability density function (pdf). In particular,\n",
    "\n",
    "1.- Write a function to estimate the pdf of a Gaussian multidimensional and estimate the values of the probability density function (pdf), recall that the multidimensional Gaussian is given by\n",
    "\n",
    "\\begin{equation}\n",
    " \\mathbf{X}\\sim {N}({\\mathbf{m}_{\\mathbf{X}}},{\\mathbf{C}_{\\mathbf{X}}}) \n",
    " =\\frac{1}{(2\\pi)^{d/2}|\\mathbf{C}_{\\mathbf{X}}|^{1/2}} \\mathrm{e}^{-\\frac{1}{2}(\\mathrm{x}-\\mathbf{m}_{\\mathbf{X}})^\\top\\mathbf{C} _{\\mathbf{X}}^{-1}(\\mathrm{x}-\\mathbf{m}_{\\mathbf{X}})}\n",
    " \\end{equation}\n",
    "\n",
    "Solution: the function can be as follows,"
   ]
  },
  {
   "cell_type": "code",
   "execution_count": 4,
   "metadata": {},
   "outputs": [],
   "source": [
    "def multivariateGaussian(X, mu, cov):\n",
    "    '''\n",
    "    Caculate the multivariate normal density (pdf)\n",
    "      of dimension n and \n",
    "    Keyword arguments:\n",
    "        X = numpy array of a \"n x d\" sample vector\n",
    "        mu = numpy array of a \"1 x d\" mean vector\n",
    "        cov = numpy array of a \"d x d\" covariance matrix\n",
    "        \n",
    "    Return\n",
    "        pdf_X = numpy array of  \"n x d\" with probs for every dimension  \n",
    "    '''\n",
    "    # Compare with scpiy stats.multivariate_normal_pdf\n",
    "    \n",
    "    # reshaping mu for convienience in calculations\n",
    "    mx = mu.T\n",
    "    C = cov\n",
    "    \n",
    "    # Dimensions X[n x d]\n",
    "    d = X.shape[1]\n",
    "    \n",
    "    # Estimation of the pdf\n",
    "    C_det = linalg.det(C)\n",
    "    C_inv = linalg.inv(C)\n",
    "    X_mx = X - mx\n",
    "    exponente = sum(dot(X_mx,C) * X_mx)\n",
    "    \n",
    "    pdf_x = 1 /( (2*pi)**(d/2)  * C_det**(1/2)) * exp(-1/2 * sum(dot(X_mx,C_inv) * X_mx,1))\n",
    "    #NOTE: sum(...,1) devuelve valores en \n",
    "    \n",
    "    return pdf_x"
   ]
  },
  {
   "cell_type": "markdown",
   "metadata": {},
   "source": [
    "We check for the function"
   ]
  },
  {
   "cell_type": "code",
   "execution_count": 5,
   "metadata": {
    "scrolled": true
   },
   "outputs": [
    {
     "name": "stdout",
     "output_type": "stream",
     "text": [
      "[0.39894228 0.39894228]\n",
      "[0.15915494 0.15915494]\n"
     ]
    }
   ],
   "source": [
    "#Test with 1 dimension and 2 samples\n",
    "x = array([[0],[0]])\n",
    "mu = array([[0]])\n",
    "#mu  = array([[0,0]])\n",
    "Cx = eye(1) \n",
    "\n",
    "# If well programmed this should print\n",
    "#    0.3989 0.3989\n",
    "print(multivariateGaussian(x, mu, Cx))\n",
    "\n",
    "#print(multivariate_normal.pdf(x, mean=2.5, cov=0.5))\n",
    "    \n",
    "#Test with 2 dimension and 1 sample\n",
    "x = array([[0,0]])\n",
    "mu  = array([[0,0]])\n",
    "Cx = eye(2)\n",
    "print(multivariateGaussian(x, mu, Cx))\n",
    "    # prints 0.1591"
   ]
  },
  {
   "cell_type": "markdown",
   "metadata": {},
   "source": [
    "Taking a look at our data in 1-D to get an idea if the gaussian model fits"
   ]
  },
  {
   "cell_type": "code",
   "execution_count": 6,
   "metadata": {},
   "outputs": [
    {
     "data": {
      "text/plain": [
       "Text(0,0.5,'fx2 (x2)')"
      ]
     },
     "execution_count": 6,
     "metadata": {},
     "output_type": "execute_result"
    },
    {
     "data": {
      "image/png": "[encoded data removed]",
      "text/plain": [
       "<Figure size 432x288 with 1 Axes>"
      ]
     },
     "metadata": {},
     "output_type": "display_data"
    },
    {
     "data": {
      "image/png": "[encoded data removed]",
      "text/plain": [
       "<Figure size 432x288 with 1 Axes>"
      ]
     },
     "metadata": {},
     "output_type": "display_data"
    }
   ],
   "source": [
    "# Taking a look at our data in 1-D\n",
    "X_1 = X[:,:1]\n",
    "X_2 = X[:,1:]\n",
    "\n",
    "# With density = Ture, pdf_x is normalized\n",
    "pdf_x1, pdf_n1 = histogram(X_1, bins=69, density=True)\n",
    "pdf_x2, pdf_n2 = histogram(X_2, bins=70, density=True)\n",
    "\n",
    "# pdf_n1[:end-1] cause it returns the edges length(bin)+1\n",
    "plt.figure()\n",
    "plt.plot(pdf_n1[:-1], pdf_x1)\n",
    "plt.title('Throughput')\n",
    "plt.xlabel('Throughput [Mbps]')\n",
    "plt.ylabel('fx1 (x1)')\n",
    "\n",
    "plt.figure()\n",
    "plt.plot(pdf_n2[:-1], pdf_x2)\n",
    "plt.title('Latency')\n",
    "plt.xlabel('Latency [ms]')\n",
    "plt.ylabel('fx2 (x2)')"
   ]
  },
  {
   "cell_type": "markdown",
   "metadata": {},
   "source": [
    "We now fit a bidimensional Gaussian pdf to our data. First, we estimate the mean and variances."
   ]
  },
  {
   "cell_type": "code",
   "execution_count": 7,
   "metadata": {},
   "outputs": [
    {
     "name": "stdout",
     "output_type": "stream",
     "text": [
      "Cx = \n",
      "[[ 1.83862041 -0.22786456]\n",
      " [-0.22786456  1.71533273]]\n"
     ]
    }
   ],
   "source": [
    "mu = mean(X,0)  # Mean per column\n",
    "Cov = cov(X.T)  # Treats each row as a VAR not columns\n",
    "print(\"Cx = \\n\" + str(Cov))"
   ]
  },
  {
   "cell_type": "markdown",
   "metadata": {
    "collapsed": true
   },
   "source": [
    "Then estimate the values of the probability density function (pdf)"
   ]
  },
  {
   "cell_type": "code",
   "execution_count": 8,
   "metadata": {},
   "outputs": [],
   "source": [
    "#pdfX=multivariateGaussian(X, mu, np.diag(sigma)) #Using out function above\n",
    "pdfX=multivariateGaussian(X, mu, Cov)\n",
    "\n",
    "# You may want to compare to the one given in any library. We use SciPy:\n",
    "from scipy import stats; \n",
    "pdfX2=stats.multivariate_normal.pdf(X, mu, Cov) #Using SciPy"
   ]
  },
  {
   "cell_type": "markdown",
   "metadata": {},
   "source": [
    "We print some values,"
   ]
  },
  {
   "cell_type": "code",
   "execution_count": 9,
   "metadata": {},
   "outputs": [
    {
     "data": {
      "text/plain": [
       "[[array([0.04706432, 0.07222458, 0.04681504, 0.06136206, 0.04131797,\n",
       "         0.04436704, 0.03271507, 0.01531845, 0.05002694])],\n",
       " [array([0.04706432, 0.07222458, 0.04681504, 0.06136206, 0.04131797,\n",
       "         0.04436704, 0.03271507, 0.01531845, 0.05002694])]]"
      ]
     },
     "execution_count": 9,
     "metadata": {},
     "output_type": "execute_result"
    }
   ],
   "source": [
    "[[pdfX[1:10]],[pdfX2[1:10]]]"
   ]
  },
  {
   "cell_type": "markdown",
   "metadata": {},
   "source": [
    "3.- Observe the pdf using contour. The following function might help you.\n"
   ]
  },
  {
   "cell_type": "code",
   "execution_count": 10,
   "metadata": {},
   "outputs": [],
   "source": [
    "def scattering(X,markerType='o',markerColor='b',axisHandle=None):\n",
    "    if axisHandle is None:\n",
    "        fig, axisHandle = plt.subplots(figsize=(8,8))\n",
    "    axisHandle.scatter(X[:,0], X[:,1],marker=markerType,color=markerColor)\n",
    "    axisHandle.axis('equal')\n",
    "    return axisHandle"
   ]
  },
  {
   "cell_type": "markdown",
   "metadata": {},
   "source": [
    "Solution: we only need to call the function properly,"
   ]
  },
  {
   "cell_type": "code",
   "execution_count": 11,
   "metadata": {},
   "outputs": [
    {
     "data": {
      "text/plain": [
       "<matplotlib.axes._subplots.AxesSubplot at 0x7fcfe770e0f0>"
      ]
     },
     "execution_count": 11,
     "metadata": {},
     "output_type": "execute_result"
    },
    {
     "data": {
      "image/png": "[encoded data removed]",
      "text/plain": [
       "<Figure size 576x576 with 1 Axes>"
      ]
     },
     "metadata": {},
     "output_type": "display_data"
    }
   ],
   "source": [
    "scattering(X)"
   ]
  },
  {
   "cell_type": "markdown",
   "metadata": {},
   "source": [
    "Note that there area few samples far away from the main cluster, that will exhibit a low probability."
   ]
  },
  {
   "cell_type": "markdown",
   "metadata": {},
   "source": [
    "## Anomaly Detection"
   ]
  },
  {
   "cell_type": "markdown",
   "metadata": {},
   "source": [
    "### Anomaly detection in a 2-dimensional space"
   ]
  },
  {
   "cell_type": "markdown",
   "metadata": {},
   "source": [
    "For the last results above, and given a threshold of, e.g., $10^{-4}$, detect the anomalies."
   ]
  },
  {
   "cell_type": "markdown",
   "metadata": {},
   "source": [
    "Solution: \n",
    "\n",
    "We will model the data above to estimate as anomalies those samples far away from the main cluster. "
   ]
  },
  {
   "cell_type": "code",
   "execution_count": 12,
   "metadata": {},
   "outputs": [
    {
     "name": "stdout",
     "output_type": "stream",
     "text": [
      "p_X[anomaly] = \n",
      "[3.41334921e-06 2.64122235e-21 2.85710156e-07 1.34985777e-12\n",
      " 2.24372245e-05 9.34704878e-21]\n",
      "\n",
      "indexes = \n",
      "[300 301 303 304 305 306]\n"
     ]
    }
   ],
   "source": [
    "#Your code here, detect the anomalies and provide their indexes\n",
    "\n",
    "# Getting the prob for the pair of X ~ [x1, x2]\n",
    "p_X = multivariateGaussian(X,mu,Cov)\n",
    "\n",
    "# Bolean vector, True if anomaly\n",
    "anomaly = p_X < 1e-4\n",
    "\n",
    "# Getting indexes of anomaly = True\n",
    "anomaly_index = where(anomaly)\n",
    "anomaly_index = anomaly_index[0]   # cause answer is a tupple\n",
    "\n",
    "# # Printing its values to double check they re below 1e-4\n",
    "# print(\"Probability = \" + p_X[anomaly] + \" index = \" + anomaly_index)\n",
    "\n",
    "print(\"p_X[anomaly] = \") \n",
    "print(p_X[anomaly]) \n",
    "print(\"\")\n",
    "print(\"indexes = \")\n",
    "print(anomaly_index)\n"
   ]
  },
  {
   "cell_type": "markdown",
   "metadata": {},
   "source": [
    "### Threshold estimation"
   ]
  },
  {
   "cell_type": "markdown",
   "metadata": {},
   "source": [
    "Compute the threshold, $\\epsilon$, to get a good value of \n",
    "$$\n",
    "F_1=2PR/(P+R)\n",
    "$$ \n",
    "where $P$ is the precission and $R$ is the $\\textit{recall}$. The following function will help you as starting point. You will have to complete it. Check that you get a value of $\\epsilon$ around $8.99e-05$."
   ]
  },
  {
   "cell_type": "markdown",
   "metadata": {},
   "source": [
    "Solution: We first complete the function "
   ]
  },
  {
   "cell_type": "code",
   "execution_count": 13,
   "metadata": {},
   "outputs": [],
   "source": [
    "def selectThreshold(yval, pval):\n",
    "    '''\n",
    "    SELECTTHRESHOLD Find the best threshold (epsilon) to use for selecting\n",
    "    outliers\n",
    "    [bestEpsilon, bestF1] = SELECTTHRESHOLD(yval, pval) finds the best\n",
    "    threshold to use for selecting outliers based on the results from a\n",
    "    validation set (pval) and the ground truth (yval).\n",
    "\n",
    "    '''\n",
    "    best_epsilon = 0\n",
    "    best_f1 = 0\n",
    "    f1 = 0\n",
    "\n",
    "    stepsize = (pval.max() - pval.min()) / 1000\n",
    "    \n",
    "#     delta_e = array([])\n",
    "#     delta_f1 = array([])\n",
    "     \n",
    "    for epsilon in arange(pval.min(), pval.max(), stepsize):\n",
    "        yest = pval < epsilon\n",
    "        \n",
    "        # True positives: yest = 1, yval = 1\n",
    "        tp_vector = (yest == True) * (yval == True)\n",
    "        tp = count_nonzero(tp_vector)\n",
    "\n",
    "        # False positives: yest = 1, yval = 0\n",
    "        fp_vector = (yest == True) * (yval == False)\n",
    "        fp = count_nonzero(fp_vector)\n",
    "\n",
    "        # False negatives: yest = 0, yval = 1\n",
    "        fn_vector = (yest == False) * (yval == True)\n",
    "        fn = count_nonzero(fn_vector)\n",
    "\n",
    "        # Precission and Recall with zero division avoiding\n",
    "        if (tp + fp) == 0:\n",
    "            prec = 0\n",
    "        else:\n",
    "            prec = tp / (tp + fp)\n",
    "        \n",
    "        if (tp + fn) == 0:\n",
    "            rec = 0\n",
    "        else:\n",
    "            rec = tp / (tp + fn)\n",
    "\n",
    "        # F1 value\n",
    "        # Avoiding zero division\n",
    "        if (prec + rec == 0):\n",
    "            f1 = 0\n",
    "        else:\n",
    "            f1 = 2 * (prec*rec) / (prec+rec)\n",
    "            \n",
    "        if f1 > best_f1:\n",
    "            best_f1 = f1\n",
    "            best_epsilon = epsilon\n",
    "        \n",
    "#         delta_e = append(delta_e, epsilon)\n",
    "#         delta_f1 = append(delta_f1, f1)            \n",
    "        \n",
    "#     plt.plot(delta_e, delta_f1)\n",
    "                \n",
    "    return best_epsilon, best_f1"
   ]
  },
  {
   "cell_type": "markdown",
   "metadata": {},
   "source": [
    "Then we estimate the threshold using the validation data "
   ]
  },
  {
   "cell_type": "code",
   "execution_count": 14,
   "metadata": {
    "scrolled": true
   },
   "outputs": [
    {
     "data": {
      "text/plain": [
       "(9.036240676156384e-05, 0.8750000000000001)"
      ]
     },
     "execution_count": 14,
     "metadata": {},
     "output_type": "execute_result"
    }
   ],
   "source": [
    "# Estimate probabilities for validation data, then the threshold\n",
    "pval = multivariateGaussian(Xval,mu,Cov)\n",
    "pval = vstack(pval) # transform to column vector\n",
    "epsilon, f1 = selectThreshold(yval, pval)\n",
    "epsilon, f1\n"
   ]
  },
  {
   "cell_type": "markdown",
   "metadata": {},
   "source": [
    "Finally, we can apply the threshold to the data set and visualize the results."
   ]
  },
  {
   "cell_type": "code",
   "execution_count": 15,
   "metadata": {},
   "outputs": [
    {
     "data": {
      "text/plain": [
       "array([[13.07931049,  9.34787812],\n",
       "       [21.72713402,  4.12623222],\n",
       "       [12.47662882, 14.45936967],\n",
       "       [19.58257277, 10.411619  ],\n",
       "       [23.33986753, 16.29887355],\n",
       "       [18.26118844, 17.978309  ],\n",
       "       [ 4.75261282, 24.35040725]])"
      ]
     },
     "execution_count": 15,
     "metadata": {},
     "output_type": "execute_result"
    }
   ],
   "source": [
    "# indexes of the values considered to be outliers\n",
    "index = where(pval < epsilon)[0]   # info stored in first argument of the return\n",
    "outliers = index\n",
    "X[outliers,:]"
   ]
  },
  {
   "cell_type": "code",
   "execution_count": 16,
   "metadata": {},
   "outputs": [
    {
     "data": {
      "text/plain": [
       "Text(0,0.5,'x2')"
      ]
     },
     "execution_count": 16,
     "metadata": {},
     "output_type": "execute_result"
    },
    {
     "data": {
      "text/plain": [
       "<Figure size 432x288 with 0 Axes>"
      ]
     },
     "metadata": {},
     "output_type": "display_data"
    },
    {
     "data": {
      "image/png": "[encoded data removed]",
      "text/plain": [
       "<Figure size 576x576 with 1 Axes>"
      ]
     },
     "metadata": {},
     "output_type": "display_data"
    }
   ],
   "source": [
    "plt.figure()\n",
    "ax=scattering(X,'o','b')\n",
    "ax=scattering(X[outliers,:],'o','r',ax) #X[outliers[0],0], X[outliers[0],1]\n",
    "plt.title(\"Scattering plot with detected anomalies\")\n",
    "plt.xlabel(\"x1\")\n",
    "plt.ylabel(\"x2\")"
   ]
  },
  {
   "cell_type": "markdown",
   "metadata": {},
   "source": [
    "The points in red are the ones that were flagged as outliers.  These seem pretty reasonable.  The top right point that has some separation (but was not flagged) may be an outlier too, but it's fairly close.  There's another example in the text of applying this to a higher-dimensional data set, but there's nothing new to do or look at so we'll move on to the last section."
   ]
  },
  {
   "cell_type": "markdown",
   "metadata": {},
   "source": [
    "### Anomaly detection in a larger dimensional space"
   ]
  },
  {
   "cell_type": "markdown",
   "metadata": {},
   "source": [
    "Finally, a similar problem with more features, dimensions, is faced. Load the data in ex8data2.mat, with 11 dimensions, compute the threshold and detect anomalies. "
   ]
  },
  {
   "cell_type": "markdown",
   "metadata": {},
   "source": [
    "Solution:"
   ]
  },
  {
   "cell_type": "code",
   "execution_count": 17,
   "metadata": {},
   "outputs": [],
   "source": [
    "data = loadmat('ex8data2.mat')\n",
    "X11 = data['X']\n",
    "X11val = data['Xval']\n",
    "y11val = data['yval']"
   ]
  },
  {
   "cell_type": "markdown",
   "metadata": {},
   "source": [
    "Estimate parameters of the Gaussian and the values of the pdf"
   ]
  },
  {
   "cell_type": "code",
   "execution_count": 270,
   "metadata": {},
   "outputs": [
    {
     "data": {
      "text/plain": [
       "(1000, 11)"
      ]
     },
     "execution_count": 270,
     "metadata": {},
     "output_type": "execute_result"
    }
   ],
   "source": [
    "X11.T.shape\n",
    "X11val.shape\n",
    "# X11val[:2]\n",
    "X11.shape"
   ]
  },
  {
   "cell_type": "code",
   "execution_count": 271,
   "metadata": {},
   "outputs": [],
   "source": [
    "mu11 = mean(X11,0)  # Mean per column\n",
    "Cov11 = cov(X11.T)  # Treats each row as a VAR not columns\n",
    "\n",
    "p11 = multivariateGaussian(X11, mu11, Cov11) \n",
    "p11val = multivariateGaussian(X11val, mu11, Cov11) \n"
   ]
  },
  {
   "cell_type": "markdown",
   "metadata": {},
   "source": [
    "Estimate the threshold "
   ]
  },
  {
   "cell_type": "code",
   "execution_count": 272,
   "metadata": {},
   "outputs": [
    {
     "data": {
      "text/plain": [
       "(8.016433335660625e-16, 0.18165137614678897)"
      ]
     },
     "execution_count": 272,
     "metadata": {},
     "output_type": "execute_result"
    }
   ],
   "source": [
    "epsilon11, f1 = selectThreshold(y11val, p11val)\n",
    "epsilon11, f1"
   ]
  },
  {
   "cell_type": "markdown",
   "metadata": {},
   "source": [
    "Finally, we can apply the threshold to the data set,"
   ]
  },
  {
   "cell_type": "code",
   "execution_count": 273,
   "metadata": {},
   "outputs": [
    {
     "data": {
      "text/plain": [
       "array([[13.07931049,  9.34787812],\n",
       "       [21.72713402,  4.12623222],\n",
       "       [12.47662882, 14.45936967],\n",
       "       [19.58257277, 10.411619  ],\n",
       "       [23.33986753, 16.29887355],\n",
       "       [18.26118844, 17.978309  ],\n",
       "       [ 4.75261282, 24.35040725]])"
      ]
     },
     "execution_count": 273,
     "metadata": {},
     "output_type": "execute_result"
    }
   ],
   "source": [
    "# indexes of the values considered to be outliers\n",
    "index11 = where(p11 < epsilon)[0]   # info stored in first argument of the return\n",
    "outliers = index\n",
    "X[outliers,:]"
   ]
  }
 ],
 "metadata": {
  "anaconda-cloud": {},
  "kernelspec": {
   "display_name": "Python 3",
   "language": "python",
   "name": "python3"
  },
  "language_info": {
   "codemirror_mode": {
    "name": "ipython",
    "version": 3
   },
   "file_extension": ".py",
   "mimetype": "text/x-python",
   "name": "python",
   "nbconvert_exporter": "python",
   "pygments_lexer": "ipython3",
   "version": "3.7.0"
  }
 },
 "nbformat": 4,
 "nbformat_minor": 1
}
